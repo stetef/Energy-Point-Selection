{
 "cells": [
  {
   "cell_type": "markdown",
   "metadata": {},
   "source": [
    "# Data Analysis\n",
    "Analysis of line scans taken at the beam. See the `README` in the `Experimental Data` folder."
   ]
  },
  {
   "cell_type": "code",
   "execution_count": null,
   "metadata": {},
   "outputs": [],
   "source": [
    "import utils\n",
    "from importlib import reload\n",
    "\n",
    "from sklearn.ensemble import RandomForestRegressor\n",
    "from sklearn.gaussian_process import GaussianProcessRegressor\n",
    "from sklearn.metrics import *\n",
    "\n",
    "from scipy.interpolate import interp1d\n",
    "from scipy.optimize import basinhopping\n",
    "\n",
    "utils = reload(utils)\n",
    "from utils import *"
   ]
  },
  {
   "cell_type": "markdown",
   "metadata": {},
   "source": [
    "## Load Reference Data"
   ]
  },
  {
   "cell_type": "code",
   "execution_count": null,
   "metadata": {},
   "outputs": [],
   "source": [
    "exp = parse_file('Reference Data/As_exp_standards_normalized.dat')\n",
    "sim = parse_file('Reference Data/As_edge_sim_standards_phases_normalized.dat')\n",
    "\n",
    "energy = np.array(sim['X1'], dtype=float)\n",
    "\n",
    "sim_data_columns = [colm for colm in sim.columns if len(colm.replace('X', '')) > 3]\n",
    "Sim_Refs = np.array(sim[sim_data_columns], dtype=float).T\n",
    "\n",
    "exp_data_columns = [colm for colm in exp.columns if len(colm.replace('X', '')) > 3]\n",
    "Exp_Refs = np.array(exp[exp_data_columns], dtype=float).T\n",
    "\n",
    "refs = np.concatenate((Sim_Refs, Exp_Refs), axis=0)\n",
    "\n",
    "Energy = np.linspace(11863, 11915, 5201)\n",
    "Energy_exp = np.array([11866.5, 11870., 11873.5, 11876.5, 11879., 11885.5, 11900., 11904., 11909.5])\n",
    "\n",
    "interperlator = interp1d(energy, refs)\n",
    "\n",
    "Refs = interperlator(Energy)\n",
    "Refs_exp = interperlator(Energy_exp)\n",
    "\n",
    "print(f\"Resolution: {Energy[1] - Energy[0]}\")\n",
    "\n",
    "data_columns = sim_data_columns + exp_data_columns"
   ]
  },
  {
   "cell_type": "markdown",
   "metadata": {},
   "source": [
    "### Visualize References"
   ]
  },
  {
   "cell_type": "code",
   "execution_count": null,
   "metadata": {},
   "outputs": [],
   "source": [
    "fig, ax = plt.subplots(figsize=(10, 6))\n",
    "for i, ref in enumerate(Refs):\n",
    "    if i >= 20:\n",
    "        c = i - 20\n",
    "    else:\n",
    "        c = i\n",
    "    label = f'{data_columns[i]}'\n",
    "    ax.plot(Energy, ref, '-', linewidth=3, c=plt.cm.tab20(c/19), label=label, alpha=1.)\n",
    "ax.legend(fontsize=16, loc='center left', bbox_to_anchor=(1., .5), ncol=2, framealpha=1.)\n",
    "plt.title(\"All references\", fontsize=20)\n",
    "format_axis(ax, ticks=(5,10))\n",
    "plt.show()"
   ]
  },
  {
   "cell_type": "markdown",
   "metadata": {},
   "source": [
    "## Analyze references taken at beam"
   ]
  },
  {
   "cell_type": "code",
   "execution_count": null,
   "metadata": {},
   "outputs": [],
   "source": [
    "standard_fnames = ['lineAs_metal_scan006.mda.csv', 'lineCd3As2_scan008.mda.csv',\n",
    "                   'lineAs2O3_scan009.mda.csv', 'lineAs3Te2_scan011.mda.csv']\n",
    "standards = ['As metal', '$Cd_3As_2$', '$As_2O_3$', '$As_3Te_2$']\n",
    "dfs = [pd.read_csv(f'Experimental data/Arsenic standards/{filename}') for filename in standard_fnames]\n",
    "dfs = [preprocess_df(df) for df in dfs]"
   ]
  },
  {
   "cell_type": "code",
   "execution_count": null,
   "metadata": {},
   "outputs": [],
   "source": [
    "def get_xy_from_colms(df, clm1, clm2):\n",
    "    x = np.array(df[clm1], dtype=float)\n",
    "    x = x * 1000  # convert to eV\n",
    "    y = np.array(df[clm2], dtype=float)\n",
    "    y = y - np.min(y)\n",
    "    y = y / np.max(y)\n",
    "    return x, y"
   ]
  },
  {
   "cell_type": "code",
   "execution_count": null,
   "metadata": {},
   "outputs": [],
   "source": [
    "fig, ax = plt.subplots(figsize=(8, 5))\n",
    "\n",
    "for i, label in enumerate(standards):\n",
    "    x, y = get_xy_from_colms(dfs[i], 'Energy (keV)', 'I_0 (a.u.)')\n",
    "    ax.plot(x, y, '-', linewidth=3, c=plt.cm.tab20(i*2), label=label)\n",
    "\n",
    "ax.legend(fontsize=16, loc='upper right')\n",
    "format_axis(ax, ticks=(5,10))\n",
    "plt.show()"
   ]
  },
  {
   "cell_type": "code",
   "execution_count": null,
   "metadata": {},
   "outputs": [],
   "source": [
    "fig, ax = plt.subplots(figsize=(8, 5))\n",
    "\n",
    "x1, y1 = get_xy_from_colms(dfs[0], 'Energy (keV)', 'I_0 (a.u.)')\n",
    "ax.plot(x1, y1, '-', linewidth=3, c=plt.cm.tab20(8), label=standards[0])\n",
    "\n",
    "x2 = Energy\n",
    "y2 = Refs[22]\n",
    "y2 = y2 / np.max(y2)\n",
    "label = 'As metal ASU stand.'\n",
    "\n",
    "delta_E = x1[np.argmax(y1)] - x2[np.argmax(y2)]\n",
    "print(delta_E)\n",
    "\n",
    "ax.plot(x2, y2, '-', linewidth=3, c=plt.cm.tab20(12), label=label)\n",
    "\n",
    "ax.legend(fontsize=16, loc='upper right')\n",
    "format_axis(ax, ticks=(5,10))\n",
    "plt.show()"
   ]
  },
  {
   "cell_type": "code",
   "execution_count": null,
   "metadata": {},
   "outputs": [],
   "source": [
    "fig, ax = plt.subplots(figsize=(8, 5))\n",
    "\n",
    "x1, y1 = get_xy_from_colms(dfs[1], 'Energy (keV)', 'I_0 (a.u.)')\n",
    "ax.plot(x1, y1, '-', linewidth=3, c=plt.cm.tab20(2), label=standards[1])\n",
    "\n",
    "x2 = Energy\n",
    "y2 = Refs[7]\n",
    "y2 = y2 / np.max(y2)\n",
    "label = '$Cd_3AS_2$ sim.'\n",
    "\n",
    "delta_E = x1[np.argmax(y1)] - x2[np.argmax(y2)]\n",
    "print(delta_E)\n",
    "\n",
    "ax.plot(x2, y2, '-', linewidth=3, c=plt.cm.tab20(6), label=label)\n",
    "\n",
    "ax.legend(fontsize=16, loc='upper right')\n",
    "format_axis(ax, ticks=(5,10))\n",
    "plt.show()"
   ]
  },
  {
   "cell_type": "code",
   "execution_count": null,
   "metadata": {},
   "outputs": [],
   "source": [
    "fig, ax = plt.subplots(figsize=(8, 5))\n",
    "\n",
    "x1, y1 = get_xy_from_colms(dfs[2], 'Energy (keV)', 'I_0 (a.u.)')\n",
    "ax.plot(x1, y1, '-', linewidth=3, c=plt.cm.tab20(4), label=standards[2])\n",
    "\n",
    "x2 = Energy\n",
    "y2 = Refs[24]\n",
    "y2 = y2 / np.max(y2)\n",
    "label = '$As_2O_3$ ASU stand.'\n",
    "\n",
    "delta_E = x1[np.argmax(y1)] - x2[np.argmax(y2)]\n",
    "print(delta_E)\n",
    "\n",
    "ax.plot(x2, y2, '-', linewidth=3, c=plt.cm.tab20(0), label=label)\n",
    "\n",
    "ax.legend(fontsize=16, loc='upper right')\n",
    "format_axis(ax, ticks=(5,10))\n",
    "plt.show()"
   ]
  },
  {
   "cell_type": "markdown",
   "metadata": {},
   "source": [
    "## Energy shift\n",
    "A 2.73 eV energy shift will be applied to all simulated references so that is is aligned with the new experimental data."
   ]
  },
  {
   "cell_type": "code",
   "execution_count": null,
   "metadata": {},
   "outputs": [],
   "source": [
    "def spectral_loss(x, spectrum, target, metric):\n",
    "    return eval(metric)(x*spectrum, target)\n",
    "\n",
    "def get_scale(spectrum, target, metric='mean_absolute_error'):\n",
    "    alpha0 = 0.1\n",
    "    alpha = minimize(spectral_loss, alpha0, args=(spectrum, target, metric))['x']\n",
    "    return alpha"
   ]
  },
  {
   "cell_type": "code",
   "execution_count": null,
   "metadata": {},
   "outputs": [],
   "source": [
    "exp_energy = np.array(dfs[0]['Energy (keV)'], dtype=float)\n",
    "print(min(exp_energy)*1000, max(exp_energy)*1000)\n",
    "print(min(energy) + 2.74, max(energy) + 2.74)"
   ]
  },
  {
   "cell_type": "code",
   "execution_count": null,
   "metadata": {},
   "outputs": [],
   "source": [
    "energy = energy + 2.74\n",
    "\n",
    "bool_arr = exp_energy*1000 > 11865\n",
    "Exp_Energy = exp_energy[bool_arr]*1000\n",
    "Energy = Exp_Energy.copy()\n",
    "\n",
    "interperlator = interp1d(energy, refs)\n",
    "\n",
    "Refs = interperlator(Energy)"
   ]
  },
  {
   "cell_type": "code",
   "execution_count": null,
   "metadata": {},
   "outputs": [],
   "source": [
    "fig, ax = plt.subplots(figsize=(8, 5))\n",
    "\n",
    "x1, y1 = get_xy_from_colms(dfs[0], 'Energy (keV)', 'I_0 (a.u.)')\n",
    "x1 = x1[bool_arr]\n",
    "y1 = y1[bool_arr]\n",
    "label = standards[0] + ' exp. stand.'\n",
    "ax.plot(x1, y1, '-', linewidth=3, c=plt.cm.tab20(8), label=label)\n",
    "\n",
    "x2 = Energy\n",
    "y2 = Refs[22]\n",
    "#y2 = y2 / np.max(y2)\n",
    "label = 'As metal ASU ref.'\n",
    "\n",
    "delta_E = x1[np.argmax(y1)] - x2[np.argmax(y2)]\n",
    "print(delta_E)\n",
    "\n",
    "alpha = get_scale(y2, y1)\n",
    "print(alpha)\n",
    "y2 = alpha*y2\n",
    "\n",
    "ax.plot(x2, y2, '-', linewidth=3, c=plt.cm.tab20(12), label=label)\n",
    "\n",
    "ax.legend(fontsize=16, loc='upper right')\n",
    "format_axis(ax, ticks=(5,10))\n",
    "plt.savefig('Figures/As_metal_exp_comparison.png', dpi=800, transparent=True)"
   ]
  },
  {
   "cell_type": "code",
   "execution_count": null,
   "metadata": {},
   "outputs": [],
   "source": [
    "fig, ax = plt.subplots(figsize=(8, 5))\n",
    "\n",
    "x1, y1 = get_xy_from_colms(dfs[2], 'Energy (keV)', 'I_0 (a.u.)')\n",
    "x1 = x1[bool_arr]\n",
    "y1 = y1[bool_arr]\n",
    "label = standards[2] + ' exp. stand.'\n",
    "ax.plot(x1, y1, '-', linewidth=3, c=plt.cm.tab20(4), label=label)\n",
    "\n",
    "x2 = Energy\n",
    "y2 = Refs[24]\n",
    "#y2 = y2 / np.max(y2)\n",
    "label = '$As_2O_3$ ASU ref.'\n",
    "\n",
    "delta_E = x1[np.argmax(y1)] - x2[np.argmax(y2)]\n",
    "print(delta_E)\n",
    "\n",
    "alpha = get_scale(y2, y1)\n",
    "print(alpha)\n",
    "y2 = alpha*y2\n",
    "\n",
    "ax.plot(x2, y2, '-', linewidth=3, c=plt.cm.tab20(0), label=label)\n",
    "\n",
    "ax.legend(fontsize=16, loc='upper right')\n",
    "format_axis(ax, ticks=(5,10))\n",
    "plt.savefig('Figures/As2O3_exp_comparison.png', dpi=800, transparent=True)"
   ]
  },
  {
   "cell_type": "markdown",
   "metadata": {},
   "source": [
    "# Visualize the Experimental Data"
   ]
  },
  {
   "cell_type": "code",
   "execution_count": null,
   "metadata": {},
   "outputs": [],
   "source": [
    "DATA = get_all_data()\n",
    "# data is a list (by set) of a list (by pixel number) of dictaries (by xy pos)\n",
    "\n",
    "nrows = 2\n",
    "ncols = 3\n",
    "fig, axes = plt.subplots(figsize=(16, 8), nrows=nrows, ncols=ncols)\n",
    "plt.subplots_adjust(wspace=0.3, hspace=0.3)\n",
    "\n",
    "for Set in range(1, 7):\n",
    "    row = (Set - 1) // ncols\n",
    "    colm = (Set - 1) % ncols\n",
    "    ax = axes[row][colm]\n",
    "    \n",
    "    if Set <= 5:\n",
    "        setdata = DATA[Set] \n",
    "        for i, pt in enumerate(setdata):\n",
    "            intensity = np.array(pt['I'], dtype=float)\n",
    "            ax.plot(pt['E'], intensity / 1000 + i*0.2, '-', linewidth=2, c=plt.cm.tab10(Set - 1))\n",
    "    \n",
    "        ax.annotate(f'Set {Set}', (0.7, 0.85), xycoords='axes fraction', fontsize=22)\n",
    "        ax.set_ylabel(\"Intensity (arb. units)\", fontsize=16)        \n",
    "        ax.set_xlabel(\"Energy (eV)\", fontsize=16)\n",
    "        ax.tick_params(direction='in', width=2, length=8, which='major', axis='both')\n",
    "        ax.set_xticklabels(np.array(ax.get_xticks(), dtype=int), fontsize=14)\n",
    "        ax.set_yticklabels(np.array(ax.get_yticks(), dtype=float), fontsize=14)\n",
    "        ax.yaxis.set_major_formatter(FormatStrFormatter('%.1f'))\n",
    "    else:\n",
    "        ax.axis('off')\n",
    "\n",
    "plt.savefig('Figures/linescans.png', dpi=800, transparent=True)"
   ]
  },
  {
   "cell_type": "markdown",
   "metadata": {},
   "source": [
    "# Minimization of a reconstruction loss"
   ]
  },
  {
   "cell_type": "code",
   "execution_count": null,
   "metadata": {},
   "outputs": [],
   "source": []
  },
  {
   "cell_type": "code",
   "execution_count": null,
   "metadata": {},
   "outputs": [],
   "source": []
  },
  {
   "cell_type": "markdown",
   "metadata": {},
   "source": [
    "# Supervised Machine Learning\n",
    "Train a model to correlate dataset of linear combinations of the selected energies to the coefficients of the components."
   ]
  },
  {
   "cell_type": "code",
   "execution_count": null,
   "metadata": {},
   "outputs": [],
   "source": [
    "kwargs = {'N': 500, 'scale': 0.03, 'dropout': 0.9, 'training': False}\n",
    "data, coeffs = generate_linear_combos(Refs, **kwargs)\n",
    "kwargs = {'N': 50, 'scale': 0.03, 'dropout': 0.9, 'training': False}\n",
    "test_data, test_coeffs = generate_linear_combos(Refs, **kwargs)\n",
    "\n",
    "data = data * alpha\n",
    "test_data = test_data * alpha"
   ]
  },
  {
   "cell_type": "code",
   "execution_count": null,
   "metadata": {},
   "outputs": [],
   "source": [
    "fig, ax = plt.subplots(figsize=(10, 6))\n",
    "for i, ref in enumerate(Refs):\n",
    "    if i >= 20:\n",
    "        c = i - 20\n",
    "    else:\n",
    "        c = i\n",
    "    label = f'{data_columns[i]}'\n",
    "    ax.plot(Energy, ref, '-', linewidth=3, c=plt.cm.tab20(c/19), label=label, alpha=1.)\n",
    "ax.legend(fontsize=16, loc='center left', bbox_to_anchor=(1., .5), ncol=2, framealpha=1.)\n",
    "plt.title(\"All references\", fontsize=20)\n",
    "format_axis(ax, ticks=(5,10))\n",
    "plt.show()"
   ]
  },
  {
   "cell_type": "code",
   "execution_count": null,
   "metadata": {},
   "outputs": [],
   "source": []
  }
 ],
 "metadata": {
  "kernelspec": {
   "display_name": "Python 3",
   "language": "python",
   "name": "python3"
  },
  "language_info": {
   "codemirror_mode": {
    "name": "ipython",
    "version": 3
   },
   "file_extension": ".py",
   "mimetype": "text/x-python",
   "name": "python",
   "nbconvert_exporter": "python",
   "pygments_lexer": "ipython3",
   "version": "3.7.3"
  }
 },
 "nbformat": 4,
 "nbformat_minor": 2
}
